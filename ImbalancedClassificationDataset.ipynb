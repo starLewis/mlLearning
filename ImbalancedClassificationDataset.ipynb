{
  "nbformat": 4,
  "nbformat_minor": 0,
  "metadata": {
    "colab": {
      "name": "ImbalancedClassificationDataset.ipynb",
      "provenance": [],
      "collapsed_sections": [],
      "authorship_tag": "ABX9TyNsSc9W7Vs6n7X6jSSWRm1r",
      "include_colab_link": true
    },
    "kernelspec": {
      "name": "python3",
      "display_name": "Python 3"
    }
  },
  "cells": [
    {
      "cell_type": "markdown",
      "metadata": {
        "id": "view-in-github",
        "colab_type": "text"
      },
      "source": [
        "<a href=\"https://colab.research.google.com/github/starLewis/mlLearning/blob/master/ImbalancedClassificationDataset.ipynb\" target=\"_parent\"><img src=\"https://colab.research.google.com/assets/colab-badge.svg\" alt=\"Open In Colab\"/></a>"
      ]
    },
    {
      "cell_type": "code",
      "metadata": {
        "id": "8dTG3PTURrRc",
        "colab_type": "code",
        "outputId": "4e66d0cd-31f3-4f9b-c534-15609196c80a",
        "colab": {
          "base_uri": "https://localhost:8080/",
          "height": 282
        }
      },
      "source": [
        "#* Generate and plot a synthetic imbalanced classification dataset\n",
        "from collections import Counter\n",
        "from sklearn.datasets import make_classification\n",
        "from matplotlib import pyplot\n",
        "from numpy import where\n",
        "#* define dataset\n",
        "X, y = make_classification(n_samples=10000, n_features=2, n_redundant=0, n_clusters_per_class=2, weights=[0.99], flip_y=0, random_state=4)\n",
        "#* Summarize class distribution\n",
        "counter = Counter(y)\n",
        "print(counter)\n",
        "#* scatter plot of examples by class label\n",
        "for label, _ in counter.items():\n",
        "  row_ix = where(y == label)[0]\n",
        "  pyplot.scatter(X[row_ix, 0], X[row_ix, 1], label=str(label))\n",
        "pyplot.legend()\n",
        "pyplot.show()"
      ],
      "execution_count": 0,
      "outputs": [
        {
          "output_type": "stream",
          "text": [
            "Counter({0: 9900, 1: 100})\n"
          ],
          "name": "stdout"
        },
        {
          "output_type": "display_data",
          "data": {
            "image/png": "[encoded data removed]",
            "text/plain": [
              "<Figure size 432x288 with 1 Axes>"
            ]
          },
          "metadata": {
            "tags": []
          }
        }
      ]
    },
    {
      "cell_type": "code",
      "metadata": {
        "id": "4-oimSggVdiz",
        "colab_type": "code",
        "outputId": "99ad9344-7b34-4a5b-f8c9-77cbb58c5a67",
        "colab": {
          "base_uri": "https://localhost:8080/",
          "height": 34
        }
      },
      "source": [
        "#* standard neural network on an imbalanced classification dataset\n",
        "from sklearn.datasets import make_classification\n",
        "from sklearn.metrics import roc_auc_score\n",
        "from keras.layers import Dense\n",
        "from keras.models import Sequential\n",
        "\n",
        "#* prepare train and test data\n",
        "def prepare_data():\n",
        "  #* generate 2d classification dataset\n",
        "  X, y = make_classification(n_samples=10000, n_features=2, n_redundant=0, n_clusters_per_class=2, weights=[0.99], flip_y=0, random_state=4)\n",
        "  #* split into train and test\n",
        "  n_train = 5000\n",
        "  trainX, testX = X[:n_train, :], X[n_train:, :]\n",
        "  trainy, testy = y[:n_train], y[n_train:]\n",
        "  return trainX, trainy, testX, testy\n",
        "\n",
        "#* define the neural network model\n",
        "def define_model(n_input):\n",
        "  #* define model\n",
        "  model = Sequential()\n",
        "  #* define first hidden layer and visible layer\n",
        "  model.add(Dense(10, input_dim = n_input, activation = 'relu', kernel_initializer = 'he_uniform'))\n",
        "  #* define output layer\n",
        "  model.add(Dense(1, activation = 'sigmoid'))\n",
        "  #* define losss and optimizer\n",
        "  model.compile(loss='binary_crossentropy', optimizer = 'sgd')\n",
        "  return model\n",
        "\n",
        "#* prepare dataset\n",
        "trainX, trainy, testX, testy = prepare_data()\n",
        "#* define the model\n",
        "n_input = trainX.shape[1]\n",
        "model = define_model(n_input)\n",
        "#* fit model\n",
        "model.fit(trainX, trainy, epochs = 100, verbose = 0)\n",
        "#* make predictions on the test datset\n",
        "yhat = model.predict(testX)\n",
        "#* evaluate the ROC AUC of the predictions\n",
        "score = roc_auc_score(testy, yhat)\n",
        "print(\"ROC AUC: {:.3f}\".format(score))"
      ],
      "execution_count": 0,
      "outputs": [
        {
          "output_type": "stream",
          "text": [
            "ROC AUC: 0.915\n"
          ],
          "name": "stdout"
        }
      ]
    },
    {
      "cell_type": "code",
      "metadata": {
        "id": "uwnOxabrEGSR",
        "colab_type": "code",
        "outputId": "af61a817-769c-4f62-8145-ae806a0b347a",
        "colab": {
          "base_uri": "https://localhost:8080/",
          "height": 34
        }
      },
      "source": [
        "#* class weighted neural network on an imbalanced classification dataset\n",
        "from sklearn.datasets import make_classification\n",
        "from sklearn.metrics import roc_auc_score\n",
        "from keras.layers import Dense\n",
        "from keras.models import Sequential\n",
        "\n",
        "#* prepare train and test dataset\n",
        "def prepare_data():\n",
        "  #* generate 2d classification dataset\n",
        "  X, y = make_classification(n_samples=10000, n_features=2, n_redundant=0, n_clusters_per_class=2, weights=[0.99], flip_y=0, random_state=4)\n",
        "  #* split into train and test\n",
        "  n_train = 5000\n",
        "  trainX, testX = X[:n_train, :], X[n_train:, :]\n",
        "  trainy, testy = y[:n_train], y[n_train:]\n",
        "  return trainX, trainy, testX, testy\n",
        "\n",
        "#* define the neural network model\n",
        "def define_model(n_input):\n",
        "  #* define model\n",
        "  model = Sequential()\n",
        "  #* define first hidden layer and visible layer\n",
        "  model.add(Dense(10, input_dim=n_input, activation='relu', kernel_initializer='he_uniform'))\n",
        "  #* define output layer\n",
        "  model.add(Dense(1, activation='sigmoid'))\n",
        "  #* define loss and optimizer\n",
        "  model.compile(loss='binary_crossentropy', optimizer='sgd')\n",
        "  return model\n",
        "\n",
        "#* prepare dataset\n",
        "trainX, trainy, testX, testy = prepare_data()\n",
        "#* get the model\n",
        "n_input = trainX.shape[1]\n",
        "model = define_model(n_input)\n",
        "#* fit model\n",
        "weights = {0:1, 1: 100}\n",
        "history = model.fit(trainX, trainy, class_weight=weights, epochs=100, verbose=0)\n",
        "#* evaluate model\n",
        "yhat = model.predict(testX)\n",
        "score = roc_auc_score(testy, yhat)\n",
        "print(\"ROC AUC: {:.3f}\".format(score))"
      ],
      "execution_count": 0,
      "outputs": [
        {
          "output_type": "stream",
          "text": [
            "ROC AUC: 0.971\n"
          ],
          "name": "stdout"
        }
      ]
    }
  ]
}